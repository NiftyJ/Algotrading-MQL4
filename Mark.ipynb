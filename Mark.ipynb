{
  "nbformat": 4,
  "nbformat_minor": 0,
  "metadata": {
    "colab": {
      "provenance": [],
      "authorship_tag": "ABX9TyOT1qt2rVL/5/WrAYHJgHIM",
      "include_colab_link": true
    },
    "kernelspec": {
      "name": "python3",
      "display_name": "Python 3"
    },
    "language_info": {
      "name": "python"
    }
  },
  "cells": [
    {
      "cell_type": "markdown",
      "metadata": {
        "id": "view-in-github",
        "colab_type": "text"
      },
      "source": [
        "<a href=\"https://colab.research.google.com/github/NiftyJ/Algotrading-MQL4/blob/main/Mark.ipynb\" target=\"_parent\"><img src=\"https://colab.research.google.com/assets/colab-badge.svg\" alt=\"Open In Colab\"/></a>"
      ]
    },
    {
      "cell_type": "markdown",
      "source": [
        "#Installing Sklearn"
      ],
      "metadata": {
        "id": "A8_wjAY1s1r6"
      }
    },
    {
      "cell_type": "code",
      "execution_count": null,
      "metadata": {
        "colab": {
          "base_uri": "https://localhost:8080/"
        },
        "id": "yCcu0gzGqaUb",
        "outputId": "0ad15772-78bf-474b-a5df-1aad2097da0c"
      },
      "outputs": [
        {
          "output_type": "stream",
          "name": "stdout",
          "text": [
            "Looking in indexes: https://pypi.org/simple, https://us-python.pkg.dev/colab-wheels/public/simple/\n",
            "Requirement already satisfied: scikit-learn in /usr/local/lib/python3.9/dist-packages (1.2.1)\n",
            "Requirement already satisfied: scipy>=1.3.2 in /usr/local/lib/python3.9/dist-packages (from scikit-learn) (1.10.1)\n",
            "Requirement already satisfied: numpy>=1.17.3 in /usr/local/lib/python3.9/dist-packages (from scikit-learn) (1.22.4)\n",
            "Requirement already satisfied: threadpoolctl>=2.0.0 in /usr/local/lib/python3.9/dist-packages (from scikit-learn) (3.1.0)\n",
            "Requirement already satisfied: joblib>=1.1.1 in /usr/local/lib/python3.9/dist-packages (from scikit-learn) (1.2.0)\n"
          ]
        }
      ],
      "source": [
        "!pip install scikit-learn"
      ]
    },
    {
      "cell_type": "markdown",
      "source": [
        "#Data for Regression"
      ],
      "metadata": {
        "id": "YMYcYzQj8cr6"
      }
    },
    {
      "cell_type": "code",
      "source": [
        "\n",
        "from sklearn.datasets import make_classification, make_regression\n",
        "X,y = make_classification(\n",
        "    n_samples = 50 , n_features = 10, n_informative = 5, n_classes = 3, n_clusters_per_class = 3\n",
        ")"
      ],
      "metadata": {
        "id": "_2e6Y977sup7"
      },
      "execution_count": 1,
      "outputs": []
    },
    {
      "cell_type": "code",
      "source": [
        "import pandas as pd\n",
        "X_df = pd.DataFrame(X)\n",
        "y_df = pd.DataFrame(y)\n",
        "X_df['target'] = y_df\n",
        "X_df.head()"
      ],
      "metadata": {
        "id": "mlm8jH3QxgaJ",
        "colab": {
          "base_uri": "https://localhost:8080/",
          "height": 232
        },
        "outputId": "ae97e82f-c139-4da9-f298-00d993d93401"
      },
      "execution_count": 3,
      "outputs": [
        {
          "output_type": "execute_result",
          "data": {
            "text/plain": [
              "          0         1         2         3         4         5         6  \\\n",
              "0 -0.742320 -0.351519 -0.925309 -2.046400 -0.823570  1.393717 -1.846478   \n",
              "1 -0.510691  2.339093 -0.362460  1.459651 -1.086514  1.973089  1.073419   \n",
              "2  0.846755  0.704398 -0.130124 -7.076148  1.707378  0.432259  0.617950   \n",
              "3  1.266557  0.782545  2.443637  1.205953 -0.553080 -1.582293 -0.964621   \n",
              "4  1.791235  1.831187 -2.768419 -5.952148  0.606070 -0.352576  0.334611   \n",
              "\n",
              "          7         8         9  target  \n",
              "0  0.659375 -0.427237 -1.447392       0  \n",
              "1 -0.028171  0.473356  1.464227       1  \n",
              "2  2.865125  2.570364 -2.346908       2  \n",
              "3 -2.834397  0.973515 -2.766700       0  \n",
              "4  2.499050  2.912621 -0.393119       1  "
            ],
            "text/html": [
              "\n",
              "  <div id=\"df-4bd10d5e-d30a-46bd-ab1e-e278e51afcf1\">\n",
              "    <div class=\"colab-df-container\">\n",
              "      <div>\n",
              "<style scoped>\n",
              "    .dataframe tbody tr th:only-of-type {\n",
              "        vertical-align: middle;\n",
              "    }\n",
              "\n",
              "    .dataframe tbody tr th {\n",
              "        vertical-align: top;\n",
              "    }\n",
              "\n",
              "    .dataframe thead th {\n",
              "        text-align: right;\n",
              "    }\n",
              "</style>\n",
              "<table border=\"1\" class=\"dataframe\">\n",
              "  <thead>\n",
              "    <tr style=\"text-align: right;\">\n",
              "      <th></th>\n",
              "      <th>0</th>\n",
              "      <th>1</th>\n",
              "      <th>2</th>\n",
              "      <th>3</th>\n",
              "      <th>4</th>\n",
              "      <th>5</th>\n",
              "      <th>6</th>\n",
              "      <th>7</th>\n",
              "      <th>8</th>\n",
              "      <th>9</th>\n",
              "      <th>target</th>\n",
              "    </tr>\n",
              "  </thead>\n",
              "  <tbody>\n",
              "    <tr>\n",
              "      <th>0</th>\n",
              "      <td>-0.742320</td>\n",
              "      <td>-0.351519</td>\n",
              "      <td>-0.925309</td>\n",
              "      <td>-2.046400</td>\n",
              "      <td>-0.823570</td>\n",
              "      <td>1.393717</td>\n",
              "      <td>-1.846478</td>\n",
              "      <td>0.659375</td>\n",
              "      <td>-0.427237</td>\n",
              "      <td>-1.447392</td>\n",
              "      <td>0</td>\n",
              "    </tr>\n",
              "    <tr>\n",
              "      <th>1</th>\n",
              "      <td>-0.510691</td>\n",
              "      <td>2.339093</td>\n",
              "      <td>-0.362460</td>\n",
              "      <td>1.459651</td>\n",
              "      <td>-1.086514</td>\n",
              "      <td>1.973089</td>\n",
              "      <td>1.073419</td>\n",
              "      <td>-0.028171</td>\n",
              "      <td>0.473356</td>\n",
              "      <td>1.464227</td>\n",
              "      <td>1</td>\n",
              "    </tr>\n",
              "    <tr>\n",
              "      <th>2</th>\n",
              "      <td>0.846755</td>\n",
              "      <td>0.704398</td>\n",
              "      <td>-0.130124</td>\n",
              "      <td>-7.076148</td>\n",
              "      <td>1.707378</td>\n",
              "      <td>0.432259</td>\n",
              "      <td>0.617950</td>\n",
              "      <td>2.865125</td>\n",
              "      <td>2.570364</td>\n",
              "      <td>-2.346908</td>\n",
              "      <td>2</td>\n",
              "    </tr>\n",
              "    <tr>\n",
              "      <th>3</th>\n",
              "      <td>1.266557</td>\n",
              "      <td>0.782545</td>\n",
              "      <td>2.443637</td>\n",
              "      <td>1.205953</td>\n",
              "      <td>-0.553080</td>\n",
              "      <td>-1.582293</td>\n",
              "      <td>-0.964621</td>\n",
              "      <td>-2.834397</td>\n",
              "      <td>0.973515</td>\n",
              "      <td>-2.766700</td>\n",
              "      <td>0</td>\n",
              "    </tr>\n",
              "    <tr>\n",
              "      <th>4</th>\n",
              "      <td>1.791235</td>\n",
              "      <td>1.831187</td>\n",
              "      <td>-2.768419</td>\n",
              "      <td>-5.952148</td>\n",
              "      <td>0.606070</td>\n",
              "      <td>-0.352576</td>\n",
              "      <td>0.334611</td>\n",
              "      <td>2.499050</td>\n",
              "      <td>2.912621</td>\n",
              "      <td>-0.393119</td>\n",
              "      <td>1</td>\n",
              "    </tr>\n",
              "  </tbody>\n",
              "</table>\n",
              "</div>\n",
              "      <button class=\"colab-df-convert\" onclick=\"convertToInteractive('df-4bd10d5e-d30a-46bd-ab1e-e278e51afcf1')\"\n",
              "              title=\"Convert this dataframe to an interactive table.\"\n",
              "              style=\"display:none;\">\n",
              "        \n",
              "  <svg xmlns=\"http://www.w3.org/2000/svg\" height=\"24px\"viewBox=\"0 0 24 24\"\n",
              "       width=\"24px\">\n",
              "    <path d=\"M0 0h24v24H0V0z\" fill=\"none\"/>\n",
              "    <path d=\"M18.56 5.44l.94 2.06.94-2.06 2.06-.94-2.06-.94-.94-2.06-.94 2.06-2.06.94zm-11 1L8.5 8.5l.94-2.06 2.06-.94-2.06-.94L8.5 2.5l-.94 2.06-2.06.94zm10 10l.94 2.06.94-2.06 2.06-.94-2.06-.94-.94-2.06-.94 2.06-2.06.94z\"/><path d=\"M17.41 7.96l-1.37-1.37c-.4-.4-.92-.59-1.43-.59-.52 0-1.04.2-1.43.59L10.3 9.45l-7.72 7.72c-.78.78-.78 2.05 0 2.83L4 21.41c.39.39.9.59 1.41.59.51 0 1.02-.2 1.41-.59l7.78-7.78 2.81-2.81c.8-.78.8-2.07 0-2.86zM5.41 20L4 18.59l7.72-7.72 1.47 1.35L5.41 20z\"/>\n",
              "  </svg>\n",
              "      </button>\n",
              "      \n",
              "  <style>\n",
              "    .colab-df-container {\n",
              "      display:flex;\n",
              "      flex-wrap:wrap;\n",
              "      gap: 12px;\n",
              "    }\n",
              "\n",
              "    .colab-df-convert {\n",
              "      background-color: #E8F0FE;\n",
              "      border: none;\n",
              "      border-radius: 50%;\n",
              "      cursor: pointer;\n",
              "      display: none;\n",
              "      fill: #1967D2;\n",
              "      height: 32px;\n",
              "      padding: 0 0 0 0;\n",
              "      width: 32px;\n",
              "    }\n",
              "\n",
              "    .colab-df-convert:hover {\n",
              "      background-color: #E2EBFA;\n",
              "      box-shadow: 0px 1px 2px rgba(60, 64, 67, 0.3), 0px 1px 3px 1px rgba(60, 64, 67, 0.15);\n",
              "      fill: #174EA6;\n",
              "    }\n",
              "\n",
              "    [theme=dark] .colab-df-convert {\n",
              "      background-color: #3B4455;\n",
              "      fill: #D2E3FC;\n",
              "    }\n",
              "\n",
              "    [theme=dark] .colab-df-convert:hover {\n",
              "      background-color: #434B5C;\n",
              "      box-shadow: 0px 1px 3px 1px rgba(0, 0, 0, 0.15);\n",
              "      filter: drop-shadow(0px 1px 2px rgba(0, 0, 0, 0.3));\n",
              "      fill: #FFFFFF;\n",
              "    }\n",
              "  </style>\n",
              "\n",
              "      <script>\n",
              "        const buttonEl =\n",
              "          document.querySelector('#df-4bd10d5e-d30a-46bd-ab1e-e278e51afcf1 button.colab-df-convert');\n",
              "        buttonEl.style.display =\n",
              "          google.colab.kernel.accessAllowed ? 'block' : 'none';\n",
              "\n",
              "        async function convertToInteractive(key) {\n",
              "          const element = document.querySelector('#df-4bd10d5e-d30a-46bd-ab1e-e278e51afcf1');\n",
              "          const dataTable =\n",
              "            await google.colab.kernel.invokeFunction('convertToInteractive',\n",
              "                                                     [key], {});\n",
              "          if (!dataTable) return;\n",
              "\n",
              "          const docLinkHtml = 'Like what you see? Visit the ' +\n",
              "            '<a target=\"_blank\" href=https://colab.research.google.com/notebooks/data_table.ipynb>data table notebook</a>'\n",
              "            + ' to learn more about interactive tables.';\n",
              "          element.innerHTML = '';\n",
              "          dataTable['output_type'] = 'display_data';\n",
              "          await google.colab.output.renderOutput(dataTable, element);\n",
              "          const docLink = document.createElement('div');\n",
              "          docLink.innerHTML = docLinkHtml;\n",
              "          element.appendChild(docLink);\n",
              "        }\n",
              "      </script>\n",
              "    </div>\n",
              "  </div>\n",
              "  "
            ]
          },
          "metadata": {},
          "execution_count": 3
        }
      ]
    },
    {
      "cell_type": "code",
      "source": [
        "from sklearn.datasets import make_regression\n",
        "X,y = make_regression(n_samples =50,n_features=11,n_informative=8)"
      ],
      "metadata": {
        "id": "A0L-cKEJ82cK"
      },
      "execution_count": 4,
      "outputs": []
    },
    {
      "cell_type": "code",
      "source": [
        "X_df = pd.DataFrame(X)\n",
        "y_df = pd.DataFrame(y)\n",
        "X_df[\"Target\"] = y_df\n",
        "X_df.head()"
      ],
      "metadata": {
        "colab": {
          "base_uri": "https://localhost:8080/",
          "height": 270
        },
        "id": "fkKNPPx39wHg",
        "outputId": "3d0c1efc-3fe9-4f91-a131-c837f7c7afaa"
      },
      "execution_count": 5,
      "outputs": [
        {
          "output_type": "execute_result",
          "data": {
            "text/plain": [
              "          0         1         2         3         4         5         6  \\\n",
              "0  0.153282  0.747166  1.157421 -0.469802 -1.497462 -0.388561  0.225828   \n",
              "1 -0.991189  0.352105  0.097534 -0.339850  0.226409 -0.292743 -0.607902   \n",
              "2  0.403872  1.879703  0.444310 -1.702906 -0.253618 -0.747029  0.228636   \n",
              "3  0.836849  1.859620  0.069970  0.912841 -0.119607  1.329967  0.044246   \n",
              "4 -1.115562  0.985950  1.535800 -0.776062  1.317734 -0.768268 -0.128834   \n",
              "\n",
              "          7         8         9        10      Target  \n",
              "0  0.813998 -0.236700  1.055119 -0.281130  142.604871  \n",
              "1  0.282466  0.361785  1.396691 -1.025145   39.520098  \n",
              "2 -0.854806 -0.207688 -0.874918 -0.656499   57.641762  \n",
              "3 -1.202382  2.020777  0.522722  0.030255  131.443764  \n",
              "4  2.558472 -1.719910 -1.561029 -0.500110  121.062989  "
            ],
            "text/html": [
              "\n",
              "  <div id=\"df-e711d6c2-794e-4d1e-bb38-7c74f0fe9045\">\n",
              "    <div class=\"colab-df-container\">\n",
              "      <div>\n",
              "<style scoped>\n",
              "    .dataframe tbody tr th:only-of-type {\n",
              "        vertical-align: middle;\n",
              "    }\n",
              "\n",
              "    .dataframe tbody tr th {\n",
              "        vertical-align: top;\n",
              "    }\n",
              "\n",
              "    .dataframe thead th {\n",
              "        text-align: right;\n",
              "    }\n",
              "</style>\n",
              "<table border=\"1\" class=\"dataframe\">\n",
              "  <thead>\n",
              "    <tr style=\"text-align: right;\">\n",
              "      <th></th>\n",
              "      <th>0</th>\n",
              "      <th>1</th>\n",
              "      <th>2</th>\n",
              "      <th>3</th>\n",
              "      <th>4</th>\n",
              "      <th>5</th>\n",
              "      <th>6</th>\n",
              "      <th>7</th>\n",
              "      <th>8</th>\n",
              "      <th>9</th>\n",
              "      <th>10</th>\n",
              "      <th>Target</th>\n",
              "    </tr>\n",
              "  </thead>\n",
              "  <tbody>\n",
              "    <tr>\n",
              "      <th>0</th>\n",
              "      <td>0.153282</td>\n",
              "      <td>0.747166</td>\n",
              "      <td>1.157421</td>\n",
              "      <td>-0.469802</td>\n",
              "      <td>-1.497462</td>\n",
              "      <td>-0.388561</td>\n",
              "      <td>0.225828</td>\n",
              "      <td>0.813998</td>\n",
              "      <td>-0.236700</td>\n",
              "      <td>1.055119</td>\n",
              "      <td>-0.281130</td>\n",
              "      <td>142.604871</td>\n",
              "    </tr>\n",
              "    <tr>\n",
              "      <th>1</th>\n",
              "      <td>-0.991189</td>\n",
              "      <td>0.352105</td>\n",
              "      <td>0.097534</td>\n",
              "      <td>-0.339850</td>\n",
              "      <td>0.226409</td>\n",
              "      <td>-0.292743</td>\n",
              "      <td>-0.607902</td>\n",
              "      <td>0.282466</td>\n",
              "      <td>0.361785</td>\n",
              "      <td>1.396691</td>\n",
              "      <td>-1.025145</td>\n",
              "      <td>39.520098</td>\n",
              "    </tr>\n",
              "    <tr>\n",
              "      <th>2</th>\n",
              "      <td>0.403872</td>\n",
              "      <td>1.879703</td>\n",
              "      <td>0.444310</td>\n",
              "      <td>-1.702906</td>\n",
              "      <td>-0.253618</td>\n",
              "      <td>-0.747029</td>\n",
              "      <td>0.228636</td>\n",
              "      <td>-0.854806</td>\n",
              "      <td>-0.207688</td>\n",
              "      <td>-0.874918</td>\n",
              "      <td>-0.656499</td>\n",
              "      <td>57.641762</td>\n",
              "    </tr>\n",
              "    <tr>\n",
              "      <th>3</th>\n",
              "      <td>0.836849</td>\n",
              "      <td>1.859620</td>\n",
              "      <td>0.069970</td>\n",
              "      <td>0.912841</td>\n",
              "      <td>-0.119607</td>\n",
              "      <td>1.329967</td>\n",
              "      <td>0.044246</td>\n",
              "      <td>-1.202382</td>\n",
              "      <td>2.020777</td>\n",
              "      <td>0.522722</td>\n",
              "      <td>0.030255</td>\n",
              "      <td>131.443764</td>\n",
              "    </tr>\n",
              "    <tr>\n",
              "      <th>4</th>\n",
              "      <td>-1.115562</td>\n",
              "      <td>0.985950</td>\n",
              "      <td>1.535800</td>\n",
              "      <td>-0.776062</td>\n",
              "      <td>1.317734</td>\n",
              "      <td>-0.768268</td>\n",
              "      <td>-0.128834</td>\n",
              "      <td>2.558472</td>\n",
              "      <td>-1.719910</td>\n",
              "      <td>-1.561029</td>\n",
              "      <td>-0.500110</td>\n",
              "      <td>121.062989</td>\n",
              "    </tr>\n",
              "  </tbody>\n",
              "</table>\n",
              "</div>\n",
              "      <button class=\"colab-df-convert\" onclick=\"convertToInteractive('df-e711d6c2-794e-4d1e-bb38-7c74f0fe9045')\"\n",
              "              title=\"Convert this dataframe to an interactive table.\"\n",
              "              style=\"display:none;\">\n",
              "        \n",
              "  <svg xmlns=\"http://www.w3.org/2000/svg\" height=\"24px\"viewBox=\"0 0 24 24\"\n",
              "       width=\"24px\">\n",
              "    <path d=\"M0 0h24v24H0V0z\" fill=\"none\"/>\n",
              "    <path d=\"M18.56 5.44l.94 2.06.94-2.06 2.06-.94-2.06-.94-.94-2.06-.94 2.06-2.06.94zm-11 1L8.5 8.5l.94-2.06 2.06-.94-2.06-.94L8.5 2.5l-.94 2.06-2.06.94zm10 10l.94 2.06.94-2.06 2.06-.94-2.06-.94-.94-2.06-.94 2.06-2.06.94z\"/><path d=\"M17.41 7.96l-1.37-1.37c-.4-.4-.92-.59-1.43-.59-.52 0-1.04.2-1.43.59L10.3 9.45l-7.72 7.72c-.78.78-.78 2.05 0 2.83L4 21.41c.39.39.9.59 1.41.59.51 0 1.02-.2 1.41-.59l7.78-7.78 2.81-2.81c.8-.78.8-2.07 0-2.86zM5.41 20L4 18.59l7.72-7.72 1.47 1.35L5.41 20z\"/>\n",
              "  </svg>\n",
              "      </button>\n",
              "      \n",
              "  <style>\n",
              "    .colab-df-container {\n",
              "      display:flex;\n",
              "      flex-wrap:wrap;\n",
              "      gap: 12px;\n",
              "    }\n",
              "\n",
              "    .colab-df-convert {\n",
              "      background-color: #E8F0FE;\n",
              "      border: none;\n",
              "      border-radius: 50%;\n",
              "      cursor: pointer;\n",
              "      display: none;\n",
              "      fill: #1967D2;\n",
              "      height: 32px;\n",
              "      padding: 0 0 0 0;\n",
              "      width: 32px;\n",
              "    }\n",
              "\n",
              "    .colab-df-convert:hover {\n",
              "      background-color: #E2EBFA;\n",
              "      box-shadow: 0px 1px 2px rgba(60, 64, 67, 0.3), 0px 1px 3px 1px rgba(60, 64, 67, 0.15);\n",
              "      fill: #174EA6;\n",
              "    }\n",
              "\n",
              "    [theme=dark] .colab-df-convert {\n",
              "      background-color: #3B4455;\n",
              "      fill: #D2E3FC;\n",
              "    }\n",
              "\n",
              "    [theme=dark] .colab-df-convert:hover {\n",
              "      background-color: #434B5C;\n",
              "      box-shadow: 0px 1px 3px 1px rgba(0, 0, 0, 0.15);\n",
              "      filter: drop-shadow(0px 1px 2px rgba(0, 0, 0, 0.3));\n",
              "      fill: #FFFFFF;\n",
              "    }\n",
              "  </style>\n",
              "\n",
              "      <script>\n",
              "        const buttonEl =\n",
              "          document.querySelector('#df-e711d6c2-794e-4d1e-bb38-7c74f0fe9045 button.colab-df-convert');\n",
              "        buttonEl.style.display =\n",
              "          google.colab.kernel.accessAllowed ? 'block' : 'none';\n",
              "\n",
              "        async function convertToInteractive(key) {\n",
              "          const element = document.querySelector('#df-e711d6c2-794e-4d1e-bb38-7c74f0fe9045');\n",
              "          const dataTable =\n",
              "            await google.colab.kernel.invokeFunction('convertToInteractive',\n",
              "                                                     [key], {});\n",
              "          if (!dataTable) return;\n",
              "\n",
              "          const docLinkHtml = 'Like what you see? Visit the ' +\n",
              "            '<a target=\"_blank\" href=https://colab.research.google.com/notebooks/data_table.ipynb>data table notebook</a>'\n",
              "            + ' to learn more about interactive tables.';\n",
              "          element.innerHTML = '';\n",
              "          dataTable['output_type'] = 'display_data';\n",
              "          await google.colab.output.renderOutput(dataTable, element);\n",
              "          const docLink = document.createElement('div');\n",
              "          docLink.innerHTML = docLinkHtml;\n",
              "          element.appendChild(docLink);\n",
              "        }\n",
              "      </script>\n",
              "    </div>\n",
              "  </div>\n",
              "  "
            ]
          },
          "metadata": {},
          "execution_count": 5
        }
      ]
    },
    {
      "cell_type": "code",
      "source": [
        "!pip install faker"
      ],
      "metadata": {
        "colab": {
          "base_uri": "https://localhost:8080/"
        },
        "id": "Uc9usQ5a98pu",
        "outputId": "b6166044-f0f7-4c49-e434-2a145e0e9e7e"
      },
      "execution_count": 6,
      "outputs": [
        {
          "output_type": "stream",
          "name": "stdout",
          "text": [
            "Looking in indexes: https://pypi.org/simple, https://us-python.pkg.dev/colab-wheels/public/simple/\n",
            "Collecting faker\n",
            "  Downloading Faker-17.6.0-py3-none-any.whl (1.7 MB)\n",
            "\u001b[2K     \u001b[90m━━━━━━━━━━━━━━━━━━━━━━━━━━━━━━━━━━━━━━━━\u001b[0m \u001b[32m1.7/1.7 MB\u001b[0m \u001b[31m18.5 MB/s\u001b[0m eta \u001b[36m0:00:00\u001b[0m\n",
            "\u001b[?25hRequirement already satisfied: python-dateutil>=2.4 in /usr/local/lib/python3.9/dist-packages (from faker) (2.8.2)\n",
            "Requirement already satisfied: six>=1.5 in /usr/local/lib/python3.9/dist-packages (from python-dateutil>=2.4->faker) (1.15.0)\n",
            "Installing collected packages: faker\n",
            "Successfully installed faker-17.6.0\n"
          ]
        }
      ]
    },
    {
      "cell_type": "markdown",
      "source": [
        "#Faker Module\n"
      ],
      "metadata": {
        "id": "D6Od8Que-JBY"
      }
    },
    {
      "cell_type": "code",
      "source": [
        "from faker import Faker\n",
        "fake = Faker()"
      ],
      "metadata": {
        "id": "lgpEI3EM-Q2w"
      },
      "execution_count": 7,
      "outputs": []
    },
    {
      "cell_type": "code",
      "source": [
        "fake.name()"
      ],
      "metadata": {
        "colab": {
          "base_uri": "https://localhost:8080/",
          "height": 35
        },
        "id": "A98kOOIA-Z9i",
        "outputId": "8419e670-df3a-4cab-f664-b53e06c2b890"
      },
      "execution_count": 10,
      "outputs": [
        {
          "output_type": "execute_result",
          "data": {
            "text/plain": [
              "'Thomas Davis'"
            ],
            "application/vnd.google.colaboratory.intrinsic+json": {
              "type": "string"
            }
          },
          "metadata": {},
          "execution_count": 10
        }
      ]
    },
    {
      "cell_type": "code",
      "source": [
        "fake.address()"
      ],
      "metadata": {
        "colab": {
          "base_uri": "https://localhost:8080/",
          "height": 35
        },
        "id": "gQ3Y34rJ-dvT",
        "outputId": "dfd0fe07-3247-4672-be08-93fe4fff2c06"
      },
      "execution_count": 11,
      "outputs": [
        {
          "output_type": "execute_result",
          "data": {
            "text/plain": [
              "'244 Jessica Crossing Suite 468\\nEast Jordanville, UT 21962'"
            ],
            "application/vnd.google.colaboratory.intrinsic+json": {
              "type": "string"
            }
          },
          "metadata": {},
          "execution_count": 11
        }
      ]
    },
    {
      "cell_type": "code",
      "source": [
        "fake.street_address()"
      ],
      "metadata": {
        "colab": {
          "base_uri": "https://localhost:8080/",
          "height": 35
        },
        "id": "GbrDJUt9-jew",
        "outputId": "c1bc87ef-33c5-48f8-e667-30faeb74e260"
      },
      "execution_count": 12,
      "outputs": [
        {
          "output_type": "execute_result",
          "data": {
            "text/plain": [
              "'0840 Derrick Summit'"
            ],
            "application/vnd.google.colaboratory.intrinsic+json": {
              "type": "string"
            }
          },
          "metadata": {},
          "execution_count": 12
        }
      ]
    },
    {
      "cell_type": "code",
      "source": [
        "df = pd.DataFrame(\n",
        "    [ { \"name\":fake.name(),\n",
        "        \"address\": fake.address(),\n",
        "        \"birthday\": fake.date_of_birth(),\n",
        "        \"email\": fake.email(),\n",
        "        \"address\":fake.address(),\n",
        "        \n",
        "\n",
        "        }\n",
        "        for i  in range(100)\n",
        "    ]\n",
        ")\n",
        "\n",
        "df.head()"
      ],
      "metadata": {
        "colab": {
          "base_uri": "https://localhost:8080/",
          "height": 337
        },
        "id": "kCuIN33x-non",
        "outputId": "d22692f6-e3a0-424e-f035-45d02d5a72d7"
      },
      "execution_count": 16,
      "outputs": [
        {
          "output_type": "execute_result",
          "data": {
            "text/plain": [
              "               name                                            address  \\\n",
              "0  Dr. Austin Zhang  95350 Lee Parkway\\nLake Christinechester, ME 6...   \n",
              "1    Theodore White                573 Wolfe Locks\\nEvanston, NJ 86580   \n",
              "2     Timothy Welch          2461 Carl Springs\\nNorth Alicia, AZ 52380   \n",
              "3       Diana Bowen                   PSC 4847, Box 6324\\nAPO AA 18112   \n",
              "4      Charles Bush             069 Karen Key\\nSouth Shannon, MA 93897   \n",
              "\n",
              "     birthday                      email  \n",
              "0  1946-06-02        acarney@example.org  \n",
              "1  1977-09-25  lopeznicholas@example.com  \n",
              "2  1914-04-24        emily05@example.com  \n",
              "3  1981-07-12          wyork@example.net  \n",
              "4  1933-03-22     nelsonlisa@example.com  "
            ],
            "text/html": [
              "\n",
              "  <div id=\"df-e6343299-950a-46d4-bf65-8010ad7f621f\">\n",
              "    <div class=\"colab-df-container\">\n",
              "      <div>\n",
              "<style scoped>\n",
              "    .dataframe tbody tr th:only-of-type {\n",
              "        vertical-align: middle;\n",
              "    }\n",
              "\n",
              "    .dataframe tbody tr th {\n",
              "        vertical-align: top;\n",
              "    }\n",
              "\n",
              "    .dataframe thead th {\n",
              "        text-align: right;\n",
              "    }\n",
              "</style>\n",
              "<table border=\"1\" class=\"dataframe\">\n",
              "  <thead>\n",
              "    <tr style=\"text-align: right;\">\n",
              "      <th></th>\n",
              "      <th>name</th>\n",
              "      <th>address</th>\n",
              "      <th>birthday</th>\n",
              "      <th>email</th>\n",
              "    </tr>\n",
              "  </thead>\n",
              "  <tbody>\n",
              "    <tr>\n",
              "      <th>0</th>\n",
              "      <td>Dr. Austin Zhang</td>\n",
              "      <td>95350 Lee Parkway\\nLake Christinechester, ME 6...</td>\n",
              "      <td>1946-06-02</td>\n",
              "      <td>acarney@example.org</td>\n",
              "    </tr>\n",
              "    <tr>\n",
              "      <th>1</th>\n",
              "      <td>Theodore White</td>\n",
              "      <td>573 Wolfe Locks\\nEvanston, NJ 86580</td>\n",
              "      <td>1977-09-25</td>\n",
              "      <td>lopeznicholas@example.com</td>\n",
              "    </tr>\n",
              "    <tr>\n",
              "      <th>2</th>\n",
              "      <td>Timothy Welch</td>\n",
              "      <td>2461 Carl Springs\\nNorth Alicia, AZ 52380</td>\n",
              "      <td>1914-04-24</td>\n",
              "      <td>emily05@example.com</td>\n",
              "    </tr>\n",
              "    <tr>\n",
              "      <th>3</th>\n",
              "      <td>Diana Bowen</td>\n",
              "      <td>PSC 4847, Box 6324\\nAPO AA 18112</td>\n",
              "      <td>1981-07-12</td>\n",
              "      <td>wyork@example.net</td>\n",
              "    </tr>\n",
              "    <tr>\n",
              "      <th>4</th>\n",
              "      <td>Charles Bush</td>\n",
              "      <td>069 Karen Key\\nSouth Shannon, MA 93897</td>\n",
              "      <td>1933-03-22</td>\n",
              "      <td>nelsonlisa@example.com</td>\n",
              "    </tr>\n",
              "  </tbody>\n",
              "</table>\n",
              "</div>\n",
              "      <button class=\"colab-df-convert\" onclick=\"convertToInteractive('df-e6343299-950a-46d4-bf65-8010ad7f621f')\"\n",
              "              title=\"Convert this dataframe to an interactive table.\"\n",
              "              style=\"display:none;\">\n",
              "        \n",
              "  <svg xmlns=\"http://www.w3.org/2000/svg\" height=\"24px\"viewBox=\"0 0 24 24\"\n",
              "       width=\"24px\">\n",
              "    <path d=\"M0 0h24v24H0V0z\" fill=\"none\"/>\n",
              "    <path d=\"M18.56 5.44l.94 2.06.94-2.06 2.06-.94-2.06-.94-.94-2.06-.94 2.06-2.06.94zm-11 1L8.5 8.5l.94-2.06 2.06-.94-2.06-.94L8.5 2.5l-.94 2.06-2.06.94zm10 10l.94 2.06.94-2.06 2.06-.94-2.06-.94-.94-2.06-.94 2.06-2.06.94z\"/><path d=\"M17.41 7.96l-1.37-1.37c-.4-.4-.92-.59-1.43-.59-.52 0-1.04.2-1.43.59L10.3 9.45l-7.72 7.72c-.78.78-.78 2.05 0 2.83L4 21.41c.39.39.9.59 1.41.59.51 0 1.02-.2 1.41-.59l7.78-7.78 2.81-2.81c.8-.78.8-2.07 0-2.86zM5.41 20L4 18.59l7.72-7.72 1.47 1.35L5.41 20z\"/>\n",
              "  </svg>\n",
              "      </button>\n",
              "      \n",
              "  <style>\n",
              "    .colab-df-container {\n",
              "      display:flex;\n",
              "      flex-wrap:wrap;\n",
              "      gap: 12px;\n",
              "    }\n",
              "\n",
              "    .colab-df-convert {\n",
              "      background-color: #E8F0FE;\n",
              "      border: none;\n",
              "      border-radius: 50%;\n",
              "      cursor: pointer;\n",
              "      display: none;\n",
              "      fill: #1967D2;\n",
              "      height: 32px;\n",
              "      padding: 0 0 0 0;\n",
              "      width: 32px;\n",
              "    }\n",
              "\n",
              "    .colab-df-convert:hover {\n",
              "      background-color: #E2EBFA;\n",
              "      box-shadow: 0px 1px 2px rgba(60, 64, 67, 0.3), 0px 1px 3px 1px rgba(60, 64, 67, 0.15);\n",
              "      fill: #174EA6;\n",
              "    }\n",
              "\n",
              "    [theme=dark] .colab-df-convert {\n",
              "      background-color: #3B4455;\n",
              "      fill: #D2E3FC;\n",
              "    }\n",
              "\n",
              "    [theme=dark] .colab-df-convert:hover {\n",
              "      background-color: #434B5C;\n",
              "      box-shadow: 0px 1px 3px 1px rgba(0, 0, 0, 0.15);\n",
              "      filter: drop-shadow(0px 1px 2px rgba(0, 0, 0, 0.3));\n",
              "      fill: #FFFFFF;\n",
              "    }\n",
              "  </style>\n",
              "\n",
              "      <script>\n",
              "        const buttonEl =\n",
              "          document.querySelector('#df-e6343299-950a-46d4-bf65-8010ad7f621f button.colab-df-convert');\n",
              "        buttonEl.style.display =\n",
              "          google.colab.kernel.accessAllowed ? 'block' : 'none';\n",
              "\n",
              "        async function convertToInteractive(key) {\n",
              "          const element = document.querySelector('#df-e6343299-950a-46d4-bf65-8010ad7f621f');\n",
              "          const dataTable =\n",
              "            await google.colab.kernel.invokeFunction('convertToInteractive',\n",
              "                                                     [key], {});\n",
              "          if (!dataTable) return;\n",
              "\n",
              "          const docLinkHtml = 'Like what you see? Visit the ' +\n",
              "            '<a target=\"_blank\" href=https://colab.research.google.com/notebooks/data_table.ipynb>data table notebook</a>'\n",
              "            + ' to learn more about interactive tables.';\n",
              "          element.innerHTML = '';\n",
              "          dataTable['output_type'] = 'display_data';\n",
              "          await google.colab.output.renderOutput(dataTable, element);\n",
              "          const docLink = document.createElement('div');\n",
              "          docLink.innerHTML = docLinkHtml;\n",
              "          element.appendChild(docLink);\n",
              "        }\n",
              "      </script>\n",
              "    </div>\n",
              "  </div>\n",
              "  "
            ]
          },
          "metadata": {},
          "execution_count": 16
        }
      ]
    },
    {
      "cell_type": "code",
      "source": [
        "!pip install pyOD"
      ],
      "metadata": {
        "colab": {
          "base_uri": "https://localhost:8080/"
        },
        "id": "4OEpGiOp_N7r",
        "outputId": "797f36e1-7547-430e-eef2-91cc66a5fb62"
      },
      "execution_count": 17,
      "outputs": [
        {
          "output_type": "stream",
          "name": "stdout",
          "text": [
            "Looking in indexes: https://pypi.org/simple, https://us-python.pkg.dev/colab-wheels/public/simple/\n",
            "Collecting pyOD\n",
            "  Downloading pyod-1.0.8.tar.gz (149 kB)\n",
            "\u001b[2K     \u001b[90m━━━━━━━━━━━━━━━━━━━━━━━━━━━━━━━━━━━━━━━\u001b[0m \u001b[32m150.0/150.0 KB\u001b[0m \u001b[31m4.3 MB/s\u001b[0m eta \u001b[36m0:00:00\u001b[0m\n",
            "\u001b[?25h  Preparing metadata (setup.py) ... \u001b[?25l\u001b[?25hdone\n",
            "Requirement already satisfied: joblib in /usr/local/lib/python3.9/dist-packages (from pyOD) (1.2.0)\n",
            "Requirement already satisfied: matplotlib in /usr/local/lib/python3.9/dist-packages (from pyOD) (3.5.3)\n",
            "Requirement already satisfied: numpy>=1.19 in /usr/local/lib/python3.9/dist-packages (from pyOD) (1.22.4)\n",
            "Requirement already satisfied: numba>=0.51 in /usr/local/lib/python3.9/dist-packages (from pyOD) (0.56.4)\n",
            "Requirement already satisfied: scipy>=1.5.1 in /usr/local/lib/python3.9/dist-packages (from pyOD) (1.10.1)\n",
            "Requirement already satisfied: scikit_learn>=0.20.0 in /usr/local/lib/python3.9/dist-packages (from pyOD) (1.2.1)\n",
            "Requirement already satisfied: six in /usr/local/lib/python3.9/dist-packages (from pyOD) (1.15.0)\n",
            "Requirement already satisfied: setuptools in /usr/local/lib/python3.9/dist-packages (from numba>=0.51->pyOD) (57.4.0)\n",
            "Requirement already satisfied: llvmlite<0.40,>=0.39.0dev0 in /usr/local/lib/python3.9/dist-packages (from numba>=0.51->pyOD) (0.39.1)\n",
            "Requirement already satisfied: threadpoolctl>=2.0.0 in /usr/local/lib/python3.9/dist-packages (from scikit_learn>=0.20.0->pyOD) (3.1.0)\n",
            "Requirement already satisfied: packaging>=20.0 in /usr/local/lib/python3.9/dist-packages (from matplotlib->pyOD) (23.0)\n",
            "Requirement already satisfied: pyparsing>=2.2.1 in /usr/local/lib/python3.9/dist-packages (from matplotlib->pyOD) (3.0.9)\n",
            "Requirement already satisfied: fonttools>=4.22.0 in /usr/local/lib/python3.9/dist-packages (from matplotlib->pyOD) (4.39.0)\n",
            "Requirement already satisfied: cycler>=0.10 in /usr/local/lib/python3.9/dist-packages (from matplotlib->pyOD) (0.11.0)\n",
            "Requirement already satisfied: python-dateutil>=2.7 in /usr/local/lib/python3.9/dist-packages (from matplotlib->pyOD) (2.8.2)\n",
            "Requirement already satisfied: pillow>=6.2.0 in /usr/local/lib/python3.9/dist-packages (from matplotlib->pyOD) (8.4.0)\n",
            "Requirement already satisfied: kiwisolver>=1.0.1 in /usr/local/lib/python3.9/dist-packages (from matplotlib->pyOD) (1.4.4)\n",
            "Building wheels for collected packages: pyOD\n",
            "  Building wheel for pyOD (setup.py) ... \u001b[?25l\u001b[?25hdone\n",
            "  Created wheel for pyOD: filename=pyod-1.0.8-py3-none-any.whl size=184055 sha256=f92d72930eb4ba403c18b2f0402bae98c417d95a55ade634d8716ad91dbf5d03\n",
            "  Stored in directory: /root/.cache/pip/wheels/90/2b/16/c9baeb5fcd94a8a5bc4ea786fef2122f5b9ab3a61a7fc0303a\n",
            "Successfully built pyOD\n",
            "Installing collected packages: pyOD\n",
            "Successfully installed pyOD-1.0.8\n"
          ]
        }
      ]
    },
    {
      "cell_type": "code",
      "source": [
        "from pyod.utils.data import generate_data\n",
        "import seaborn as sns\n",
        "import matplotlib.pyplot as plt\n",
        "\n",
        "X,y = generate_data(\n",
        "    n_train = 40, contamination = 0.05 , n_features = 2 , train_only = True, random_state =1\n",
        "\n",
        ")\n",
        "X_df = pd.DataFrame(X)\n",
        "X_df[\"is_anomaly\"] =pd.DataFrame(y)\n",
        "#Plot\n",
        "\n",
        "sns.scatterplot(data =X_df, x= 0,y=1, hue =\"is_anomaly\")"
      ],
      "metadata": {
        "colab": {
          "base_uri": "https://localhost:8080/",
          "height": 299
        },
        "id": "78wgI0jm_pcQ",
        "outputId": "602f7858-601c-496d-8a5e-5fd2b39e9f0b"
      },
      "execution_count": 20,
      "outputs": [
        {
          "output_type": "execute_result",
          "data": {
            "text/plain": [
              "<AxesSubplot:xlabel='0', ylabel='1'>"
            ]
          },
          "metadata": {},
          "execution_count": 20
        },
        {
          "output_type": "display_data",
          "data": {
            "text/plain": [
              "<Figure size 432x288 with 1 Axes>"
            ],
            "image/png": "[encoded data removed]"
          },
          "metadata": {
            "needs_background": "light"
          }
        }
      ]
    },
    {
      "cell_type": "code",
      "source": [],
      "metadata": {
        "id": "6lPg6WBuAk3A"
      },
      "execution_count": null,
      "outputs": []
    }
  ]
}